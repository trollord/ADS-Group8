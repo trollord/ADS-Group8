{
 "cells": [
  {
   "attachments": {},
   "cell_type": "markdown",
   "metadata": {},
   "source": [
    "# Supervised Models - Performance Metrics"
   ]
  },
  {
   "cell_type": "code",
   "execution_count": 1,
   "metadata": {},
   "outputs": [],
   "source": [
    "import pandas as pd\n",
    "import numpy as np\n",
    "from sklearn.ensemble import RandomForestClassifier\n",
    "from sklearn.metrics import classification_report, mean_absolute_percentage_error, accuracy_score, precision_score, recall_score, f1_score, roc_auc_score, confusion_matrix, ConfusionMatrixDisplay\n",
    "import math\n",
    "import matplotlib.pyplot as plt"
   ]
  },
  {
   "cell_type": "code",
   "execution_count": 2,
   "metadata": {},
   "outputs": [
    {
     "data": {
      "text/html": [
       "<div>\n",
       "<style scoped>\n",
       "    .dataframe tbody tr th:only-of-type {\n",
       "        vertical-align: middle;\n",
       "    }\n",
       "\n",
       "    .dataframe tbody tr th {\n",
       "        vertical-align: top;\n",
       "    }\n",
       "\n",
       "    .dataframe thead th {\n",
       "        text-align: right;\n",
       "    }\n",
       "</style>\n",
       "<table border=\"1\" class=\"dataframe\">\n",
       "  <thead>\n",
       "    <tr style=\"text-align: right;\">\n",
       "      <th></th>\n",
       "      <th>Unnamed: 0</th>\n",
       "      <th>index</th>\n",
       "      <th>Unumber</th>\n",
       "      <th>key</th>\n",
       "      <th>fare_amount</th>\n",
       "      <th>pickup_datetime</th>\n",
       "      <th>pickup_longitude</th>\n",
       "      <th>pickup_latitude</th>\n",
       "      <th>dropoff_longitude</th>\n",
       "      <th>dropoff_latitude</th>\n",
       "      <th>passenger_count</th>\n",
       "      <th>distance</th>\n",
       "      <th>distance_range</th>\n",
       "    </tr>\n",
       "  </thead>\n",
       "  <tbody>\n",
       "    <tr>\n",
       "      <th>0</th>\n",
       "      <td>0</td>\n",
       "      <td>129546</td>\n",
       "      <td>4264204</td>\n",
       "      <td>2013-10-11 20:42:00.000000209</td>\n",
       "      <td>13.50</td>\n",
       "      <td>2013-10-11 20:42:00 UTC</td>\n",
       "      <td>-73.968367</td>\n",
       "      <td>40.755280</td>\n",
       "      <td>-74.000925</td>\n",
       "      <td>40.731782</td>\n",
       "      <td>1</td>\n",
       "      <td>3.705146</td>\n",
       "      <td>4.0</td>\n",
       "    </tr>\n",
       "    <tr>\n",
       "      <th>1</th>\n",
       "      <td>1</td>\n",
       "      <td>157708</td>\n",
       "      <td>16914374</td>\n",
       "      <td>2009-05-22 22:56:00.000000207</td>\n",
       "      <td>28.25</td>\n",
       "      <td>2009-05-22 22:56:00 UTC</td>\n",
       "      <td>-73.871200</td>\n",
       "      <td>40.773960</td>\n",
       "      <td>-73.996203</td>\n",
       "      <td>40.759870</td>\n",
       "      <td>1</td>\n",
       "      <td>13.958072</td>\n",
       "      <td>10000.0</td>\n",
       "    </tr>\n",
       "    <tr>\n",
       "      <th>2</th>\n",
       "      <td>2</td>\n",
       "      <td>146825</td>\n",
       "      <td>274789</td>\n",
       "      <td>2011-02-28 06:56:44.0000002</td>\n",
       "      <td>6.90</td>\n",
       "      <td>2011-02-28 06:56:44 UTC</td>\n",
       "      <td>-73.996791</td>\n",
       "      <td>40.737605</td>\n",
       "      <td>-73.977832</td>\n",
       "      <td>40.763559</td>\n",
       "      <td>1</td>\n",
       "      <td>2.261968</td>\n",
       "      <td>3.0</td>\n",
       "    </tr>\n",
       "    <tr>\n",
       "      <th>3</th>\n",
       "      <td>3</td>\n",
       "      <td>192482</td>\n",
       "      <td>11942062</td>\n",
       "      <td>2015-01-04 17:04:31.0000004</td>\n",
       "      <td>39.33</td>\n",
       "      <td>2015-01-04 17:04:31 UTC</td>\n",
       "      <td>-73.873100</td>\n",
       "      <td>40.774040</td>\n",
       "      <td>-73.985306</td>\n",
       "      <td>40.732552</td>\n",
       "      <td>1</td>\n",
       "      <td>12.588475</td>\n",
       "      <td>10000.0</td>\n",
       "    </tr>\n",
       "    <tr>\n",
       "      <th>4</th>\n",
       "      <td>4</td>\n",
       "      <td>187756</td>\n",
       "      <td>42996243</td>\n",
       "      <td>2014-04-27 12:59:00.000000182</td>\n",
       "      <td>14.50</td>\n",
       "      <td>2014-04-27 12:59:00 UTC</td>\n",
       "      <td>-73.956453</td>\n",
       "      <td>40.771052</td>\n",
       "      <td>-73.991773</td>\n",
       "      <td>40.749097</td>\n",
       "      <td>1</td>\n",
       "      <td>3.999675</td>\n",
       "      <td>4.0</td>\n",
       "    </tr>\n",
       "  </tbody>\n",
       "</table>\n",
       "</div>"
      ],
      "text/plain": [
       "   Unnamed: 0   index   Unumber                            key  fare_amount  \\\n",
       "0           0  129546   4264204  2013-10-11 20:42:00.000000209        13.50   \n",
       "1           1  157708  16914374  2009-05-22 22:56:00.000000207        28.25   \n",
       "2           2  146825    274789    2011-02-28 06:56:44.0000002         6.90   \n",
       "3           3  192482  11942062    2015-01-04 17:04:31.0000004        39.33   \n",
       "4           4  187756  42996243  2014-04-27 12:59:00.000000182        14.50   \n",
       "\n",
       "           pickup_datetime  pickup_longitude  pickup_latitude  \\\n",
       "0  2013-10-11 20:42:00 UTC        -73.968367        40.755280   \n",
       "1  2009-05-22 22:56:00 UTC        -73.871200        40.773960   \n",
       "2  2011-02-28 06:56:44 UTC        -73.996791        40.737605   \n",
       "3  2015-01-04 17:04:31 UTC        -73.873100        40.774040   \n",
       "4  2014-04-27 12:59:00 UTC        -73.956453        40.771052   \n",
       "\n",
       "   dropoff_longitude  dropoff_latitude  passenger_count   distance  \\\n",
       "0         -74.000925         40.731782                1   3.705146   \n",
       "1         -73.996203         40.759870                1  13.958072   \n",
       "2         -73.977832         40.763559                1   2.261968   \n",
       "3         -73.985306         40.732552                1  12.588475   \n",
       "4         -73.991773         40.749097                1   3.999675   \n",
       "\n",
       "   distance_range  \n",
       "0             4.0  \n",
       "1         10000.0  \n",
       "2             3.0  \n",
       "3         10000.0  \n",
       "4             4.0  "
      ]
     },
     "execution_count": 2,
     "metadata": {},
     "output_type": "execute_result"
    }
   ],
   "source": [
    "df = pd.read_csv('UberEdited.csv')\n",
    "df.head()"
   ]
  },
  {
   "cell_type": "code",
   "execution_count": 3,
   "metadata": {},
   "outputs": [],
   "source": [
    "df = df.drop(columns=['index','Unumber','key','pickup_datetime','distance_range'])"
   ]
  },
  {
   "cell_type": "code",
   "execution_count": 4,
   "metadata": {},
   "outputs": [
    {
     "name": "stdout",
     "output_type": "stream",
     "text": [
      "8.5\n"
     ]
    }
   ],
   "source": [
    "medianFare = np.median(df[\"fare_amount\"])\n",
    "print(medianFare)"
   ]
  },
  {
   "cell_type": "code",
   "execution_count": 5,
   "metadata": {},
   "outputs": [],
   "source": [
    "FareBucket = []\n",
    "for amount in df[\"fare_amount\"]:\n",
    "    if amount > 8.5:\n",
    "        FareBucket.append(\"1\")\n",
    "    else:\n",
    "        FareBucket.append(\"0\")\n",
    "df[\"FareBucket\"] = FareBucket"
   ]
  },
  {
   "cell_type": "code",
   "execution_count": 6,
   "metadata": {},
   "outputs": [
    {
     "data": {
      "text/html": [
       "<div>\n",
       "<style scoped>\n",
       "    .dataframe tbody tr th:only-of-type {\n",
       "        vertical-align: middle;\n",
       "    }\n",
       "\n",
       "    .dataframe tbody tr th {\n",
       "        vertical-align: top;\n",
       "    }\n",
       "\n",
       "    .dataframe thead th {\n",
       "        text-align: right;\n",
       "    }\n",
       "</style>\n",
       "<table border=\"1\" class=\"dataframe\">\n",
       "  <thead>\n",
       "    <tr style=\"text-align: right;\">\n",
       "      <th></th>\n",
       "      <th>Unnamed: 0</th>\n",
       "      <th>pickup_longitude</th>\n",
       "      <th>pickup_latitude</th>\n",
       "      <th>dropoff_longitude</th>\n",
       "      <th>dropoff_latitude</th>\n",
       "      <th>passenger_count</th>\n",
       "      <th>distance</th>\n",
       "      <th>FareBucket</th>\n",
       "    </tr>\n",
       "  </thead>\n",
       "  <tbody>\n",
       "    <tr>\n",
       "      <th>0</th>\n",
       "      <td>0</td>\n",
       "      <td>-73.968367</td>\n",
       "      <td>40.755280</td>\n",
       "      <td>-74.000925</td>\n",
       "      <td>40.731782</td>\n",
       "      <td>1</td>\n",
       "      <td>3.705146</td>\n",
       "      <td>1</td>\n",
       "    </tr>\n",
       "    <tr>\n",
       "      <th>1</th>\n",
       "      <td>1</td>\n",
       "      <td>-73.871200</td>\n",
       "      <td>40.773960</td>\n",
       "      <td>-73.996203</td>\n",
       "      <td>40.759870</td>\n",
       "      <td>1</td>\n",
       "      <td>13.958072</td>\n",
       "      <td>1</td>\n",
       "    </tr>\n",
       "    <tr>\n",
       "      <th>2</th>\n",
       "      <td>2</td>\n",
       "      <td>-73.996791</td>\n",
       "      <td>40.737605</td>\n",
       "      <td>-73.977832</td>\n",
       "      <td>40.763559</td>\n",
       "      <td>1</td>\n",
       "      <td>2.261968</td>\n",
       "      <td>0</td>\n",
       "    </tr>\n",
       "    <tr>\n",
       "      <th>3</th>\n",
       "      <td>3</td>\n",
       "      <td>-73.873100</td>\n",
       "      <td>40.774040</td>\n",
       "      <td>-73.985306</td>\n",
       "      <td>40.732552</td>\n",
       "      <td>1</td>\n",
       "      <td>12.588475</td>\n",
       "      <td>1</td>\n",
       "    </tr>\n",
       "    <tr>\n",
       "      <th>4</th>\n",
       "      <td>4</td>\n",
       "      <td>-73.956453</td>\n",
       "      <td>40.771052</td>\n",
       "      <td>-73.991773</td>\n",
       "      <td>40.749097</td>\n",
       "      <td>1</td>\n",
       "      <td>3.999675</td>\n",
       "      <td>1</td>\n",
       "    </tr>\n",
       "    <tr>\n",
       "      <th>...</th>\n",
       "      <td>...</td>\n",
       "      <td>...</td>\n",
       "      <td>...</td>\n",
       "      <td>...</td>\n",
       "      <td>...</td>\n",
       "      <td>...</td>\n",
       "      <td>...</td>\n",
       "      <td>...</td>\n",
       "    </tr>\n",
       "    <tr>\n",
       "      <th>137137</th>\n",
       "      <td>137179</td>\n",
       "      <td>-74.007737</td>\n",
       "      <td>40.704722</td>\n",
       "      <td>-73.970580</td>\n",
       "      <td>40.751642</td>\n",
       "      <td>1</td>\n",
       "      <td>4.391599</td>\n",
       "      <td>1</td>\n",
       "    </tr>\n",
       "    <tr>\n",
       "      <th>137138</th>\n",
       "      <td>137180</td>\n",
       "      <td>-73.968899</td>\n",
       "      <td>40.763346</td>\n",
       "      <td>-73.977598</td>\n",
       "      <td>40.753115</td>\n",
       "      <td>1</td>\n",
       "      <td>1.020828</td>\n",
       "      <td>0</td>\n",
       "    </tr>\n",
       "    <tr>\n",
       "      <th>137139</th>\n",
       "      <td>137181</td>\n",
       "      <td>-73.987548</td>\n",
       "      <td>40.718471</td>\n",
       "      <td>-74.013865</td>\n",
       "      <td>40.709392</td>\n",
       "      <td>4</td>\n",
       "      <td>2.950456</td>\n",
       "      <td>1</td>\n",
       "    </tr>\n",
       "    <tr>\n",
       "      <th>137140</th>\n",
       "      <td>137182</td>\n",
       "      <td>-73.968810</td>\n",
       "      <td>40.767775</td>\n",
       "      <td>-73.955563</td>\n",
       "      <td>40.768348</td>\n",
       "      <td>1</td>\n",
       "      <td>1.478575</td>\n",
       "      <td>0</td>\n",
       "    </tr>\n",
       "    <tr>\n",
       "      <th>137141</th>\n",
       "      <td>137183</td>\n",
       "      <td>-73.989371</td>\n",
       "      <td>40.758750</td>\n",
       "      <td>-73.977405</td>\n",
       "      <td>40.753680</td>\n",
       "      <td>1</td>\n",
       "      <td>1.344607</td>\n",
       "      <td>0</td>\n",
       "    </tr>\n",
       "  </tbody>\n",
       "</table>\n",
       "<p>137142 rows × 8 columns</p>\n",
       "</div>"
      ],
      "text/plain": [
       "        Unnamed: 0  pickup_longitude  pickup_latitude  dropoff_longitude  \\\n",
       "0                0        -73.968367        40.755280         -74.000925   \n",
       "1                1        -73.871200        40.773960         -73.996203   \n",
       "2                2        -73.996791        40.737605         -73.977832   \n",
       "3                3        -73.873100        40.774040         -73.985306   \n",
       "4                4        -73.956453        40.771052         -73.991773   \n",
       "...            ...               ...              ...                ...   \n",
       "137137      137179        -74.007737        40.704722         -73.970580   \n",
       "137138      137180        -73.968899        40.763346         -73.977598   \n",
       "137139      137181        -73.987548        40.718471         -74.013865   \n",
       "137140      137182        -73.968810        40.767775         -73.955563   \n",
       "137141      137183        -73.989371        40.758750         -73.977405   \n",
       "\n",
       "        dropoff_latitude  passenger_count   distance FareBucket  \n",
       "0              40.731782                1   3.705146          1  \n",
       "1              40.759870                1  13.958072          1  \n",
       "2              40.763559                1   2.261968          0  \n",
       "3              40.732552                1  12.588475          1  \n",
       "4              40.749097                1   3.999675          1  \n",
       "...                  ...              ...        ...        ...  \n",
       "137137         40.751642                1   4.391599          1  \n",
       "137138         40.753115                1   1.020828          0  \n",
       "137139         40.709392                4   2.950456          1  \n",
       "137140         40.768348                1   1.478575          0  \n",
       "137141         40.753680                1   1.344607          0  \n",
       "\n",
       "[137142 rows x 8 columns]"
      ]
     },
     "execution_count": 6,
     "metadata": {},
     "output_type": "execute_result"
    }
   ],
   "source": [
    "df.drop(columns=\"fare_amount\")"
   ]
  },
  {
   "cell_type": "code",
   "execution_count": 7,
   "metadata": {},
   "outputs": [
    {
     "name": "stdout",
     "output_type": "stream",
     "text": [
      "No. of training examples: 91885\n",
      "No. of testing examples: 45257\n"
     ]
    }
   ],
   "source": [
    "training_data = df.sample(frac=0.67, random_state=25)\n",
    "testing_data = df.drop(training_data.index)\n",
    "\n",
    "print(f\"No. of training examples: {training_data.shape[0]}\")\n",
    "print(f\"No. of testing examples: {testing_data.shape[0]}\")"
   ]
  },
  {
   "cell_type": "code",
   "execution_count": 8,
   "metadata": {},
   "outputs": [],
   "source": [
    "def load_train_data():\n",
    "    y_train = training_data['FareBucket']\n",
    "    X_train = training_data.drop(columns='FareBucket')\n",
    "    X_train = X_train.astype(int)\n",
    "    y_train = y_train.astype(int)\n",
    "    return X_train, y_train\n",
    "def load_test_data():\n",
    "    y_test = testing_data['FareBucket']\n",
    "    X_test = testing_data.drop(columns='FareBucket')\n",
    "    X_test = X_test.astype(int)\n",
    "    y_test = y_test.astype(int)\n",
    "    return X_test, y_test"
   ]
  },
  {
   "cell_type": "code",
   "execution_count": 9,
   "metadata": {},
   "outputs": [],
   "source": [
    "X_train, y_train = load_train_data()\n",
    "X_test, y_test = load_test_data()"
   ]
  },
  {
   "cell_type": "code",
   "execution_count": 10,
   "metadata": {},
   "outputs": [
    {
     "data": {
      "text/plain": [
       "Unnamed: 0           0\n",
       "fare_amount          0\n",
       "pickup_longitude     0\n",
       "pickup_latitude      0\n",
       "dropoff_longitude    0\n",
       "dropoff_latitude     0\n",
       "passenger_count      0\n",
       "distance             0\n",
       "FareBucket           0\n",
       "dtype: int64"
      ]
     },
     "execution_count": 10,
     "metadata": {},
     "output_type": "execute_result"
    }
   ],
   "source": [
    "df.isnull().sum()"
   ]
  },
  {
   "cell_type": "code",
   "execution_count": 11,
   "metadata": {},
   "outputs": [],
   "source": [
    "rfc = RandomForestClassifier()\n",
    "y_pred = rfc.fit(X_train, y_train)\n",
    "y_pred = rfc.predict(X_test)"
   ]
  },
  {
   "cell_type": "code",
   "execution_count": 12,
   "metadata": {},
   "outputs": [
    {
     "name": "stdout",
     "output_type": "stream",
     "text": [
      "              precision    recall  f1-score   support\n",
      "\n",
      "        high       0.97      0.97      0.97     23988\n",
      "         low       0.97      0.97      0.97     21269\n",
      "\n",
      "    accuracy                           0.97     45257\n",
      "   macro avg       0.97      0.97      0.97     45257\n",
      "weighted avg       0.97      0.97      0.97     45257\n",
      "\n"
     ]
    }
   ],
   "source": [
    "print(classification_report(y_test, y_pred, target_names=[\"high\", \"low\"]))"
   ]
  },
  {
   "cell_type": "code",
   "execution_count": 13,
   "metadata": {},
   "outputs": [
    {
     "data": {
      "image/png": "[encoded data removed]",
      "text/plain": [
       "<Figure size 640x480 with 2 Axes>"
      ]
     },
     "metadata": {},
     "output_type": "display_data"
    },
    {
     "data": {
      "text/plain": [
       "<Figure size 10x10 with 0 Axes>"
      ]
     },
     "metadata": {},
     "output_type": "display_data"
    }
   ],
   "source": [
    "cm = confusion_matrix(y_test,y_pred)\n",
    "cmDisply = ConfusionMatrixDisplay(cm)\n",
    "cmDisply.plot()\n",
    "plt.figure(figsize=(0.1,0.1))\n",
    "plt.show()"
   ]
  },
  {
   "cell_type": "code",
   "execution_count": 14,
   "metadata": {},
   "outputs": [
    {
     "name": "stdout",
     "output_type": "stream",
     "text": [
      "Root Mean Square Error:  0.1714284662093518\n",
      "Mean Absolute Percentage Error:  67866958611191.16\n",
      "Accuracy: 0.9706122809731091\n",
      "Precision: 0.9729481506220256\n",
      "Sensitivity: 0.9715691178922795\n",
      "Specificity: 0.9715691178922795\n",
      "ROC AUC: 0.9705511206086532\n",
      "F1 score: 0.9722581452588545\n"
     ]
    }
   ],
   "source": [
    "MSE = np.square(np.subtract(y_test,y_pred)).mean() \n",
    "RMSE = math.sqrt(MSE)\n",
    "print(\"Root Mean Square Error: \", RMSE)\n",
    "print(\"Mean Absolute Percentage Error: \",mean_absolute_percentage_error(y_test,y_pred))\n",
    "accuracy = accuracy_score(y_test, y_pred) \n",
    "print(\"Accuracy:\", accuracy)\n",
    "# Calculate precision\n",
    "precision = precision_score(y_test, y_pred, pos_label=0) \n",
    "print(\"Precision:\", precision)\n",
    "# Calculate error rate error_rate = 1 - accuracy print(\"Error rate:\", error_rate)\n",
    "# Calculate sensitivity\n",
    "sensitivity = recall_score(y_test, y_pred, pos_label=0) \n",
    "print(\"Sensitivity:\", sensitivity)\n",
    "# Calculate specificity\n",
    "tn, fp, fn, tp = confusion_matrix(y_test, y_pred).ravel() \n",
    "specificity = tn / (tn+fp)\n",
    "print(\"Specificity:\", specificity)\n",
    "# Calculate ROC AUC\n",
    "roc_auc = roc_auc_score(y_test, y_pred) \n",
    "print(\"ROC AUC:\", roc_auc)\n",
    "# Calculate F1 score\n",
    "f1 = f1_score(y_test, y_pred, pos_label=0) \n",
    "print(\"F1 score:\", f1)"
   ]
  },
  {
   "cell_type": "code",
   "execution_count": 15,
   "metadata": {},
   "outputs": [
    {
     "data": {
      "image/png": "[encoded data removed]",
      "text/plain": [
       "<Figure size 640x480 with 1 Axes>"
      ]
     },
     "metadata": {},
     "output_type": "display_data"
    }
   ],
   "source": [
    "fpr=fp/(fp+tn)\n",
    "tpr=tp/(tp+fn)\n",
    "plt.plot(fpr, tpr, color='darkorange', label='ROC curve (area = %0.2f)' %roc_auc)\n",
    "plt.rcParams[\"figure.figsize\"] = (20,10)\n",
    "plt.plot([0, 1], [0, 1], color='navy', linestyle='--') \n",
    "plt.xlim([0.0, 1.0])\n",
    "plt.ylim([0.0, 1.05])\n",
    "plt.xlabel('False Positive Rate')\n",
    "plt.ylabel('True Positive Rate')\n",
    "plt.title('Receiver operating characteristic') \n",
    "plt.legend(loc=\"lower right\")\n",
    "plt.show()"
   ]
  }
 ],
 "metadata": {
  "kernelspec": {
   "display_name": "Python 3",
   "language": "python",
   "name": "python3"
  },
  "language_info": {
   "codemirror_mode": {
    "name": "ipython",
    "version": 3
   },
   "file_extension": ".py",
   "mimetype": "text/x-python",
   "name": "python",
   "nbconvert_exporter": "python",
   "pygments_lexer": "ipython3",
   "version": "3.12.2"
  },
  "orig_nbformat": 4
 },
 "nbformat": 4,
 "nbformat_minor": 2
}
