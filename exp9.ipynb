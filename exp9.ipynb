{
 "cells": [
  {
   "cell_type": "code",
   "execution_count": 10,
   "metadata": {},
   "outputs": [],
   "source": [
    "import pandas as pd\n",
    "import numpy as np\n",
    "import scipy.stats as stats\n",
    "import statsmodels.api as sm\n",
    "from statsmodels.formula.api import ols\n",
    "from scipy.stats import ttest_ind, ttest_1samp, f_oneway\n",
    "from statsmodels.stats.weightstats import ztest"
   ]
  },
  {
   "cell_type": "code",
   "execution_count": 11,
   "metadata": {},
   "outputs": [],
   "source": [
    "df = pd.read_csv('UberEdited.csv').head(500)"
   ]
  },
  {
   "cell_type": "code",
   "execution_count": 12,
   "metadata": {},
   "outputs": [
    {
     "name": "stdout",
     "output_type": "stream",
     "text": [
      "Z-score: 10.115488988527197\n",
      "P-value: 4.716558347236132e-24\n"
     ]
    }
   ],
   "source": [
    "# Z-test\n",
    "sample_mean = df['fare_amount'].mean()\n",
    "pop_mean =  7 # assumed population mean\n",
    "sample_std = df['fare_amount'].std()\n",
    "n = len(df)\n",
    "z_score = (sample_mean - pop_mean) / (sample_std / np.sqrt(n))\n",
    "p_value = stats.norm.sf(abs(z_score)) * 2  # two-tailed test\n",
    "print('Z-score:', z_score)\n",
    "print('P-value:', p_value)"
   ]
  },
  {
   "cell_type": "code",
   "execution_count": 13,
   "metadata": {},
   "outputs": [
    {
     "name": "stdout",
     "output_type": "stream",
     "text": [
      "T-score: 10.115488988527197\n",
      "P-value: 5.269564092641419e-22\n"
     ]
    }
   ],
   "source": [
    "# T-test\n",
    "sample_mean = df['fare_amount'].mean()\n",
    "pop_mean = 7  # assumed population mean\n",
    "sample_std = df['fare_amount'].std()\n",
    "n = len(df)\n",
    "t_score, p_value = stats.ttest_1samp(df['fare_amount'], pop_mean)\n",
    "print('T-score:', t_score)\n",
    "print('P-value:', p_value)"
   ]
  },
  {
   "cell_type": "code",
   "execution_count": 14,
   "metadata": {},
   "outputs": [
    {
     "name": "stdout",
     "output_type": "stream",
     "text": [
      "                          sum_sq     df         F    PR(>F)\n",
      "C(passenger_count)    259.825967    6.0  0.413486  0.870174\n",
      "Residual            51631.836876  493.0       NaN       NaN\n"
     ]
    }
   ],
   "source": [
    "model = ols('fare_amount ~ C(passenger_count)', data=df).fit()\n",
    "anova_table = sm.stats.anova_lm(model, typ=2)\n",
    "print(anova_table)"
   ]
  },
  {
   "cell_type": "code",
   "execution_count": 15,
   "metadata": {},
   "outputs": [
    {
     "name": "stdout",
     "output_type": "stream",
     "text": [
      "1-sample t-test results:\n",
      "t-statistic:  10.115488988527197\n",
      "p-value:  5.269564092641419e-22\n"
     ]
    }
   ],
   "source": [
    "t_stat, p_value = ttest_1samp(df['fare_amount'], 7)\n",
    "print(\"1-sample t-test results:\")\n",
    "print(\"t-statistic: \", t_stat)\n",
    "print(\"p-value: \", p_value)"
   ]
  },
  {
   "cell_type": "code",
   "execution_count": 16,
   "metadata": {},
   "outputs": [
    {
     "name": "stdout",
     "output_type": "stream",
     "text": [
      "2-sample t-test results:\n",
      "t-statistic:  0.5812028853538929\n",
      "p-value:  0.563880729757865\n"
     ]
    }
   ],
   "source": [
    "sample1 = df[df['passenger_count'] == 5]['fare_amount']\n",
    "sample2 = df[df['passenger_count'] == 6]['fare_amount']\n",
    "t_stat, p_value = ttest_ind(sample1, sample2)\n",
    "print(\"2-sample t-test results:\")\n",
    "print(\"t-statistic: \", t_stat)\n",
    "print(\"p-value: \", p_value)"
   ]
  },
  {
   "cell_type": "code",
   "execution_count": 17,
   "metadata": {},
   "outputs": [
    {
     "name": "stdout",
     "output_type": "stream",
     "text": [
      "ANOVA results:\n",
      "f-statistic:  0.49548003877041524\n",
      "p-value:  0.6096210063085061\n"
     ]
    }
   ],
   "source": [
    "group1 = df[df['passenger_count'] == 1]['fare_amount']\n",
    "group2 = df[df['passenger_count'] == 2]['fare_amount']\n",
    "group3 = df[df['passenger_count'] == 3]['fare_amount']\n",
    "f_stat, p_value = f_oneway(group1, group2, group3)\n",
    "print(\"ANOVA results:\")\n",
    "print(\"f-statistic: \", f_stat)\n",
    "print(\"p-value: \", p_value)"
   ]
  }
 ],
 "metadata": {
  "kernelspec": {
   "display_name": "Python 3",
   "language": "python",
   "name": "python3"
  },
  "language_info": {
   "codemirror_mode": {
    "name": "ipython",
    "version": 3
   },
   "file_extension": ".py",
   "mimetype": "text/x-python",
   "name": "python",
   "nbconvert_exporter": "python",
   "pygments_lexer": "ipython3",
   "version": "3.12.2"
  },
  "orig_nbformat": 4
 },
 "nbformat": 4,
 "nbformat_minor": 2
}
